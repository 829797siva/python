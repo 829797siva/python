{
  "nbformat": 4,
  "nbformat_minor": 0,
  "metadata": {
    "colab": {
      "provenance": [],
      "authorship_tag": "ABX9TyMvbRG3MuvGnZHjR52fqIw9",
      "include_colab_link": true
    },
    "kernelspec": {
      "name": "python3",
      "display_name": "Python 3"
    },
    "language_info": {
      "name": "python"
    }
  },
  "cells": [
    {
      "cell_type": "markdown",
      "metadata": {
        "id": "view-in-github",
        "colab_type": "text"
      },
      "source": [
        "<a href=\"https://colab.research.google.com/github/829797siva/python/blob/main/for_inside_of_if_programs.ipynb\" target=\"_parent\"><img src=\"https://colab.research.google.com/assets/colab-badge.svg\" alt=\"Open In Colab\"/></a>"
      ]
    },
    {
      "cell_type": "code",
      "execution_count": 6,
      "metadata": {
        "colab": {
          "base_uri": "https://localhost:8080/"
        },
        "id": "5R8PCR7tB6kn",
        "outputId": "f136edc0-5933-41bb-f77c-997eca864843"
      },
      "outputs": [
        {
          "output_type": "stream",
          "name": "stdout",
          "text": [
            "sum of even numbers: 8\n",
            "sum of even numbers: 14\n"
          ]
        }
      ],
      "source": [
        "a=[5,8,6,9,7]\n",
        "sum=0\n",
        "for i in a:\n",
        "    if i%2==0:\n",
        "        sum += i\n",
        "        print(\"sum of even numbers:\",sum)"
      ]
    },
    {
      "cell_type": "code",
      "source": [
        "a=[5,8,6,9,7]\n",
        "sum=0\n",
        "for i in a:\n",
        "    if i%2==1:\n",
        "        sum += i\n",
        "        print(\"sum of odd numbers:\",sum)"
      ],
      "metadata": {
        "colab": {
          "base_uri": "https://localhost:8080/"
        },
        "id": "KgDsewJ3CPhc",
        "outputId": "4f434a29-70b0-4f1c-f6f6-986ae1ebadde"
      },
      "execution_count": 7,
      "outputs": [
        {
          "output_type": "stream",
          "name": "stdout",
          "text": [
            "sum of odd numbers: 5\n",
            "sum of odd numbers: 14\n",
            "sum of odd numbers: 21\n"
          ]
        }
      ]
    },
    {
      "cell_type": "code",
      "source": [
        "a=[5,8,6,9,7]\n",
        "for i in a:\n",
        "    if i%2==0:\n",
        "        print(\"total number of even num:\",i)"
      ],
      "metadata": {
        "colab": {
          "base_uri": "https://localhost:8080/"
        },
        "id": "tsETmZ0YDfMY",
        "outputId": "cef547d9-eb6c-4930-b911-74a3b6703f76"
      },
      "execution_count": 8,
      "outputs": [
        {
          "output_type": "stream",
          "name": "stdout",
          "text": [
            "total number of even num: 8\n",
            "total number of even num: 6\n"
          ]
        }
      ]
    },
    {
      "cell_type": "code",
      "source": [
        "a=[5,8,6,9,7]\n",
        "for i in a:\n",
        "    if i%2==1:\n",
        "        print(\"total number of num:\",i)"
      ],
      "metadata": {
        "colab": {
          "base_uri": "https://localhost:8080/"
        },
        "id": "OSxhqaw1DfI4",
        "outputId": "3c2d3281-dbab-4341-821b-1813eb61966f"
      },
      "execution_count": 9,
      "outputs": [
        {
          "output_type": "stream",
          "name": "stdout",
          "text": [
            "total number of num: 5\n",
            "total number of num: 9\n",
            "total number of num: 7\n"
          ]
        }
      ]
    },
    {
      "cell_type": "code",
      "source": [
        "a=[5,8,6,9,7]\n",
        "min=0\n",
        "for i in a:\n",
        "    if(i<min):\n",
        "        min=i\n",
        "print(min)"
      ],
      "metadata": {
        "colab": {
          "base_uri": "https://localhost:8080/"
        },
        "id": "2hPbS3C7DfGN",
        "outputId": "4adc83c5-3342-477c-dc5c-b1c0b03b04a0"
      },
      "execution_count": 10,
      "outputs": [
        {
          "output_type": "stream",
          "name": "stdout",
          "text": [
            "0\n"
          ]
        }
      ]
    },
    {
      "cell_type": "code",
      "source": [
        "a=[5,8,6,9,7]\n",
        "max=0\n",
        "for i in a:\n",
        "    if(i>max):\n",
        "        max=i\n",
        "print(max)"
      ],
      "metadata": {
        "colab": {
          "base_uri": "https://localhost:8080/"
        },
        "id": "qhPaVvTEDm5w",
        "outputId": "5745db49-bcbd-4e64-9b77-174634214903"
      },
      "execution_count": 11,
      "outputs": [
        {
          "output_type": "stream",
          "name": "stdout",
          "text": [
            "9\n"
          ]
        }
      ]
    },
    {
      "cell_type": "code",
      "source": [
        "a=[5,8,6,9,7]\n",
        "max=0\n",
        "min=0\n",
        "for i in a:\n",
        "    if(i>max):\n",
        "        max=i\n",
        "    if(i<min):\n",
        "        min=i\n",
        "    diff=max-min\n",
        "print(diff)"
      ],
      "metadata": {
        "colab": {
          "base_uri": "https://localhost:8080/"
        },
        "id": "qMTkYMD8DpRc",
        "outputId": "fde5f05a-0afb-4885-bfd5-a7111834bd3d"
      },
      "execution_count": 12,
      "outputs": [
        {
          "output_type": "stream",
          "name": "stdout",
          "text": [
            "9\n"
          ]
        }
      ]
    }
  ]
}