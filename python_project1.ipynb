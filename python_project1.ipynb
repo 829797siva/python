{
  "nbformat": 4,
  "nbformat_minor": 0,
  "metadata": {
    "colab": {
      "provenance": [],
      "authorship_tag": "ABX9TyPUtakT/ShkrF3NnYimuk7x",
      "include_colab_link": true
    },
    "kernelspec": {
      "name": "python3",
      "display_name": "Python 3"
    },
    "language_info": {
      "name": "python"
    }
  },
  "cells": [
    {
      "cell_type": "markdown",
      "metadata": {
        "id": "view-in-github",
        "colab_type": "text"
      },
      "source": [
        "<a href=\"https://colab.research.google.com/github/829797siva/python/blob/main/python_project1.ipynb\" target=\"_parent\"><img src=\"https://colab.research.google.com/assets/colab-badge.svg\" alt=\"Open In Colab\"/></a>"
      ]
    },
    {
      "cell_type": "code",
      "execution_count": 1,
      "metadata": {
        "colab": {
          "base_uri": "https://localhost:8080/"
        },
        "id": "5R8PCR7tB6kn",
        "outputId": "7450a9f4-7355-4901-95d3-a50fcd194596"
      },
      "outputs": [
        {
          "output_type": "stream",
          "name": "stdout",
          "text": [
            "enter subject marks:50\n",
            "enter subject marks:60\n",
            "enter subject marks:90\n",
            "pass\n",
            "GRADE: A\n"
          ]
        }
      ],
      "source": [
        "sub_1=int(input('enter subject marks:'))\n",
        "sub_2=int(input('enter subject marks:'))\n",
        "sub_3=int(input('enter subject marks:'))\n",
        "if(sub_1>=32 and sub_2>=32 and sub_3>=2):\n",
        "    print(\"pass\")\n",
        "    avg=sub_1+sub_2+sub_3/3\n",
        "    total=sub_1+sub_2+sub_3\n",
        "    if(avg>=70):\n",
        "        print(\"GRADE:\",'A')\n",
        "    elif(avg>=60 and avg<=70):\n",
        "        print(\"GRADE:\",'B')\n",
        "    elif(avg>=50 and avg<=60):\n",
        "        print(\"GRADE:\",'C')\n",
        "    else:\n",
        "        print(\"GRADE:\",'D')\n",
        "else:\n",
        "    print(\"BETTER LUCK NEXT TIME\")\n"
      ]
    },
    {
      "cell_type": "code",
      "source": [],
      "metadata": {
        "id": "KgDsewJ3CPhc"
      },
      "execution_count": null,
      "outputs": []
    }
  ]
}