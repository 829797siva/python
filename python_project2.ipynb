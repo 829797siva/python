{
  "nbformat": 4,
  "nbformat_minor": 0,
  "metadata": {
    "colab": {
      "provenance": [],
      "authorship_tag": "ABX9TyPpqKkMtcFeFP0cs1q8TK9z",
      "include_colab_link": true
    },
    "kernelspec": {
      "name": "python3",
      "display_name": "Python 3"
    },
    "language_info": {
      "name": "python"
    }
  },
  "cells": [
    {
      "cell_type": "markdown",
      "metadata": {
        "id": "view-in-github",
        "colab_type": "text"
      },
      "source": [
        "<a href=\"https://colab.research.google.com/github/829797siva/python/blob/main/python_project2.ipynb\" target=\"_parent\"><img src=\"https://colab.research.google.com/assets/colab-badge.svg\" alt=\"Open In Colab\"/></a>"
      ]
    },
    {
      "cell_type": "code",
      "execution_count": 3,
      "metadata": {
        "colab": {
          "base_uri": "https://localhost:8080/"
        },
        "id": "5R8PCR7tB6kn",
        "outputId": "7a62015b-c5c7-48da-d987-890c6fbcb09d"
      },
      "outputs": [
        {
          "output_type": "stream",
          "name": "stdout",
          "text": [
            "1.idly\n",
            "2.dosa\n",
            "3.vada\n",
            "4.puri\n",
            "enter your choice:1\n",
            "idly\n"
          ]
        }
      ],
      "source": [
        "print(\"1.idly\")\n",
        "print(\"2.dosa\")\n",
        "print(\"3.vada\")\n",
        "print(\"4.puri\")\n",
        "ch_q=int(input('enter your choice:'))\n",
        "if(ch_q>=1 and ch_q<=4):\n",
        "    if(ch_q==1):\n",
        "        print(\"idly\")\n",
        "    if(ch_q==2):\n",
        "        print(\"dosa\")\n",
        "        print(\"1.plain dosa\")\n",
        "        print(\"2.onion dosa\")\n",
        "        print(\"3.masala dosa\")\n",
        "        chh_h=int(input('enter your choice'))\n",
        "        if(chh_h==1):\n",
        "            print(\"plain dosa\")\n",
        "        elif(chh_h==2):\n",
        "            print(\"onion dosa\")\n",
        "        elif(chh_h==3):\n",
        "            print(\"masala dosa\")\n",
        "            cost=150\n",
        "            print(cost)\n",
        "    elif(ch_q==3):\n",
        "        print(\"vada\")\n",
        "    elif(ch_q==4):\n",
        "        print(\"puri\")\n",
        "else:\n",
        "    print(\"invalid choice\")"
      ]
    },
    {
      "cell_type": "code",
      "source": [],
      "metadata": {
        "id": "KgDsewJ3CPhc"
      },
      "execution_count": null,
      "outputs": []
    }
  ]
}