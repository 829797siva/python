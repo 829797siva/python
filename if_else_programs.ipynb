{
  "nbformat": 4,
  "nbformat_minor": 0,
  "metadata": {
    "colab": {
      "provenance": [],
      "authorship_tag": "ABX9TyP5ucxeRI130jn23HY9Lnt7",
      "include_colab_link": true
    },
    "kernelspec": {
      "name": "python3",
      "display_name": "Python 3"
    },
    "language_info": {
      "name": "python"
    }
  },
  "cells": [
    {
      "cell_type": "markdown",
      "metadata": {
        "id": "view-in-github",
        "colab_type": "text"
      },
      "source": [
        "<a href=\"https://colab.research.google.com/github/829797siva/python/blob/main/if_else_programs.ipynb\" target=\"_parent\"><img src=\"https://colab.research.google.com/assets/colab-badge.svg\" alt=\"Open In Colab\"/></a>"
      ]
    },
    {
      "cell_type": "code",
      "source": [
        "gender= input(\"enter gender\")\n",
        "if(gender == \"male\"):\n",
        "    print(\"set is booked\")\n",
        "else:\n",
        "    print(\"set is not booked\")"
      ],
      "metadata": {
        "colab": {
          "base_uri": "https://localhost:8080/"
        },
        "id": "3dVAh90qEvKT",
        "outputId": "e379e369-232b-47b0-d947-172b7b1f8558"
      },
      "execution_count": 13,
      "outputs": [
        {
          "output_type": "stream",
          "name": "stdout",
          "text": [
            "enter gendermale\n",
            "set is booked\n"
          ]
        }
      ]
    },
    {
      "cell_type": "code",
      "source": [
        "product_cost = 4500\n",
        "n = input(\"enter any bank account:\")\n",
        "if(n==\"bankaccount\"):\n",
        "    print(\"payment is successfull\")\n",
        "else:\n",
        "    print(\"paymen is not success\")"
      ],
      "metadata": {
        "colab": {
          "base_uri": "https://localhost:8080/"
        },
        "id": "CeGFI9znEwfv",
        "outputId": "aff457d7-5eb7-4017-a408-c130d1e17aa8"
      },
      "execution_count": 14,
      "outputs": [
        {
          "output_type": "stream",
          "name": "stdout",
          "text": [
            "enter any bank account:4200\n",
            "paymen is not success\n"
          ]
        }
      ]
    },
    {
      "cell_type": "code",
      "source": [
        "age=int(input(\"enter age:\"))\n",
        "if(age<=5):\n",
        "    print(\"no ticket\")\n",
        "elif(age<=12 or age>=60):\n",
        "    print(\"half ticket\")\n",
        "elif(age<=59):\n",
        "    print(\"full tickrt\")"
      ],
      "metadata": {
        "colab": {
          "base_uri": "https://localhost:8080/"
        },
        "id": "SZKWk5iUEyn8",
        "outputId": "4fe1029a-0a65-40da-d858-edaf69436f95"
      },
      "execution_count": 15,
      "outputs": [
        {
          "output_type": "stream",
          "name": "stdout",
          "text": [
            "enter age:15\n",
            "full tickrt\n"
          ]
        }
      ]
    },
    {
      "cell_type": "code",
      "source": [
        "n=int(input(\"enter any number:\"))\n",
        "if(n<=699):\n",
        "    offer=100\n",
        "    bill=n-offer\n",
        "    print(bill)\n",
        "\n"
      ],
      "metadata": {
        "colab": {
          "base_uri": "https://localhost:8080/"
        },
        "id": "JrP6U8I2E6Yu",
        "outputId": "89d121f2-333f-4d9a-cba1-348ca0676f1a"
      },
      "execution_count": 16,
      "outputs": [
        {
          "output_type": "stream",
          "name": "stdout",
          "text": [
            "enter any number:100\n",
            "0\n"
          ]
        }
      ]
    },
    {
      "cell_type": "code",
      "source": [
        "n=int(input(\"enter subject marks:\"))\n",
        "if(n>=0 or n<=1005):\n",
        "    print(\"invalid message\")\n",
        "else:\n",
        "    print(\"   \")\n"
      ],
      "metadata": {
        "colab": {
          "base_uri": "https://localhost:8080/"
        },
        "id": "y5_2iC3dE6Mz",
        "outputId": "2e657fd1-3759-4c65-efac-63134a4be935"
      },
      "execution_count": 17,
      "outputs": [
        {
          "output_type": "stream",
          "name": "stdout",
          "text": [
            "enter subject marks:100\n",
            "invalid message\n"
          ]
        }
      ]
    },
    {
      "cell_type": "code",
      "source": [
        "p_cost=int(input(\"enter any number:\"))\n",
        "if(p_cost>=5000):\n",
        "    d=20\n",
        "    final=p_cost*20/100\n",
        "    print(final)"
      ],
      "metadata": {
        "colab": {
          "base_uri": "https://localhost:8080/"
        },
        "id": "gsq_4swQE6JO",
        "outputId": "17920fe3-84fa-4976-f932-4a335d1d9431"
      },
      "execution_count": 18,
      "outputs": [
        {
          "name": "stdout",
          "output_type": "stream",
          "text": [
            "enter any number:30\n"
          ]
        }
      ]
    },
    {
      "cell_type": "code",
      "source": [
        "p_cost=int(input(\"enter product cost:\"))\n",
        "q=int(input(\"quantity:\"))\n",
        "card=input(\"enter bank account:\")\n",
        "if(card==\"icic\"):\n",
        "    d=15\n",
        "    bill=p_cost*q\n",
        "    totalbill=bill*15/100\n",
        "    print(totalbill)"
      ],
      "metadata": {
        "colab": {
          "base_uri": "https://localhost:8080/"
        },
        "id": "lWZhSs4lE6Gh",
        "outputId": "923650e9-55fb-47b8-ee79-3b33d1212fc3"
      },
      "execution_count": 19,
      "outputs": [
        {
          "output_type": "stream",
          "name": "stdout",
          "text": [
            "enter product cost:1000\n",
            "quantity:2\n",
            "enter bank account:icic\n",
            "300.0\n"
          ]
        }
      ]
    },
    {
      "cell_type": "code",
      "source": [
        "t_cost=int(input(\"enter product cost:\"))\n",
        "q=int(input(\"quantity:\"))\n",
        "card=input(\"enter bank account:\")\n",
        "if(card==\"coupon\" or card==\"SAVE20\"):\n",
        "    d=20\n",
        "    bill=t_cost*q\n",
        "    totalbill=bill*20/100\n",
        "    print(totalbill)"
      ],
      "metadata": {
        "colab": {
          "base_uri": "https://localhost:8080/"
        },
        "id": "UKcBn_rdFD5q",
        "outputId": "2e1b44e7-2312-4d82-f4b9-7e8c9b240082"
      },
      "execution_count": 20,
      "outputs": [
        {
          "output_type": "stream",
          "name": "stdout",
          "text": [
            "enter product cost:200\n",
            "quantity:5\n",
            "enter bank account:coupon\n",
            "200.0\n"
          ]
        }
      ]
    },
    {
      "cell_type": "code",
      "source": [
        "n=int(input(\"enter any number:\"))\n",
        "if(n>0):\n",
        "    print(\"+ve number\")\n",
        "else:\n",
        "    print(\"-ve number\")"
      ],
      "metadata": {
        "colab": {
          "base_uri": "https://localhost:8080/"
        },
        "id": "4WA-gcTFFIWs",
        "outputId": "6382202e-2d38-4d31-9eb1-2524d152325f"
      },
      "execution_count": 21,
      "outputs": [
        {
          "output_type": "stream",
          "name": "stdout",
          "text": [
            "enter any number:10\n",
            "+ve number\n"
          ]
        }
      ]
    },
    {
      "cell_type": "code",
      "source": [
        "a=int(input(\"enter any number:\"))\n",
        "b=int(input(\"enter any number:\"))\n",
        "if(a>b):\n",
        "    print(\"a is big\")\n",
        "elif(b>a):\n",
        "    print(\"b is big\")"
      ],
      "metadata": {
        "colab": {
          "base_uri": "https://localhost:8080/"
        },
        "id": "pBXtjUySFITT",
        "outputId": "83680707-b0e1-459b-8f9c-73b901a2ddde"
      },
      "execution_count": 22,
      "outputs": [
        {
          "output_type": "stream",
          "name": "stdout",
          "text": [
            "enter any number:10\n",
            "enter any number:20\n",
            "b is big\n"
          ]
        }
      ]
    },
    {
      "cell_type": "code",
      "source": [
        "age=int(input(\"enter age:\"))\n",
        "if(age>=18):\n",
        "    print(\"vote eligible\")\n",
        "else:\n",
        "    print(\"not eligible\")\n",
        ""
      ],
      "metadata": {
        "colab": {
          "base_uri": "https://localhost:8080/"
        },
        "id": "S8aGPzSJFIQ2",
        "outputId": "8deddbee-9586-4ce5-efac-bcdf762153dd"
      },
      "execution_count": 23,
      "outputs": [
        {
          "output_type": "stream",
          "name": "stdout",
          "text": [
            "enter age:50\n",
            "vote eligible\n"
          ]
        }
      ]
    },
    {
      "cell_type": "code",
      "source": [
        "age=int(input(\"enter age:\"))\n",
        "if(age<=18 or age<=25):\n",
        "    print(\"apply for job\")\n",
        "else:\n",
        "    print(\"sorry invalid age\")\n",
        ""
      ],
      "metadata": {
        "colab": {
          "base_uri": "https://localhost:8080/"
        },
        "id": "YZ6bdOnDFIOn",
        "outputId": "40c58274-2815-43a7-e574-62e9ad4e2ad6"
      },
      "execution_count": 24,
      "outputs": [
        {
          "output_type": "stream",
          "name": "stdout",
          "text": [
            "enter age:19\n",
            "apply for job\n"
          ]
        }
      ]
    },
    {
      "cell_type": "code",
      "source": [
        "n=int(input(\"enter any number\"))\n",
        "if(n%5==0):\n",
        "    print(\"divisible\")\n",
        "else:\n",
        "    print(\"not divisible\")"
      ],
      "metadata": {
        "colab": {
          "base_uri": "https://localhost:8080/"
        },
        "id": "QSYkcSN3FP48",
        "outputId": "8d603dba-8179-4924-969b-bac5bd6d3fdf"
      },
      "execution_count": 25,
      "outputs": [
        {
          "output_type": "stream",
          "name": "stdout",
          "text": [
            "enter any number10\n",
            "divisible\n"
          ]
        }
      ]
    },
    {
      "cell_type": "code",
      "source": [
        "n=input(\"enter meter name:\")\n",
        "lm=int(input(\"enter last month reading:\"))\n",
        "cm=int(input(\"enter current reading:\"))\n",
        "residential=1.49\n",
        "others=3.46\n",
        "if(n==\"residential\"):\n",
        "    bill=lm-cm\n",
        "    units=bill/1.49\n",
        "    print(units)\n",
        "else:\n",
        "    bill=lm-cm\n",
        "    units=bill/3.46\n",
        "    print(units)"
      ],
      "metadata": {
        "colab": {
          "base_uri": "https://localhost:8080/"
        },
        "id": "7q_wB8ybFP1a",
        "outputId": "5f4eb364-57ac-4e7d-b129-f1dce7b9ad28"
      },
      "execution_count": 28,
      "outputs": [
        {
          "output_type": "stream",
          "name": "stdout",
          "text": [
            "enter meter name:1200\n",
            "enter last month reading:1000\n",
            "enter current reading:200\n",
            "231.21387283236996\n"
          ]
        }
      ]
    }
  ]
}