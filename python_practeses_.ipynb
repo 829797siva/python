{
  "nbformat": 4,
  "nbformat_minor": 0,
  "metadata": {
    "colab": {
      "provenance": [],
      "authorship_tag": "ABX9TyMZu5sQvgGjFQNMoVl0IzVN",
      "include_colab_link": true
    },
    "kernelspec": {
      "name": "python3",
      "display_name": "Python 3"
    },
    "language_info": {
      "name": "python"
    }
  },
  "cells": [
    {
      "cell_type": "markdown",
      "metadata": {
        "id": "view-in-github",
        "colab_type": "text"
      },
      "source": [
        "<a href=\"https://colab.research.google.com/github/829797siva/python/blob/main/python_practeses_.ipynb\" target=\"_parent\"><img src=\"https://colab.research.google.com/assets/colab-badge.svg\" alt=\"Open In Colab\"/></a>"
      ]
    },
    {
      "cell_type": "markdown",
      "source": [
        "                                            **VARIABLES**"
      ],
      "metadata": {
        "id": "R43wpw6qUbsO"
      }
    },
    {
      "cell_type": "markdown",
      "source": [
        "by using print we have to print one by one  variables in print"
      ],
      "metadata": {
        "id": "IQIzAZ3NU7hv"
      }
    },
    {
      "cell_type": "code",
      "source": [
        "name = \"karthik\"\n",
        "age = 16\n",
        "print(name)\n",
        "print(age)"
      ],
      "metadata": {
        "colab": {
          "base_uri": "https://localhost:8080/"
        },
        "id": "j41tFE1CUYVI",
        "outputId": "cd2f76d9-9072-4de1-dd45-6ae92e4c1e42"
      },
      "execution_count": null,
      "outputs": [
        {
          "output_type": "stream",
          "name": "stdout",
          "text": [
            "karthik\n",
            "16\n"
          ]
        }
      ]
    },
    {
      "cell_type": "markdown",
      "source": [
        "by using print we have to print multiple variable in print"
      ],
      "metadata": {
        "id": "nWzmdia8Vlyt"
      }
    },
    {
      "cell_type": "code",
      "source": [
        "name =\"john\"\n",
        "age =55\n",
        "place = \"uk\"\n",
        "print(name,age,place)"
      ],
      "metadata": {
        "colab": {
          "base_uri": "https://localhost:8080/"
        },
        "id": "cCrOrT6eVlLD",
        "outputId": "24f3abb0-152b-4bfe-9495-cc009b5a480d"
      },
      "execution_count": null,
      "outputs": [
        {
          "output_type": "stream",
          "name": "stdout",
          "text": [
            "john 55 uk\n"
          ]
        }
      ]
    },
    {
      "cell_type": "markdown",
      "source": [
        "assign the multipule values into the variable"
      ],
      "metadata": {
        "id": "8YDR0SBKdb0Y"
      }
    },
    {
      "cell_type": "code",
      "source": [
        "a,b,c=1,5,9\n",
        "print(a)\n",
        "print(b)\n",
        "print(c)"
      ],
      "metadata": {
        "colab": {
          "base_uri": "https://localhost:8080/"
        },
        "id": "JRWABd32dbLz",
        "outputId": "3715ae4b-80a9-411b-a8a7-6e0189f79390"
      },
      "execution_count": null,
      "outputs": [
        {
          "output_type": "stream",
          "name": "stdout",
          "text": [
            "1\n",
            "5\n",
            "9\n"
          ]
        }
      ]
    },
    {
      "cell_type": "markdown",
      "source": [
        "RE-initilising variables"
      ],
      "metadata": {
        "id": "MCgSOWyTdsSD"
      }
    },
    {
      "cell_type": "code",
      "source": [
        "salary=100000\n",
        "salary=500000\n",
        "print(salary)"
      ],
      "metadata": {
        "id": "3I6ykJ7KVk3w",
        "colab": {
          "base_uri": "https://localhost:8080/"
        },
        "outputId": "dcd86732-2100-4f3c-9987-950ddc22d033"
      },
      "execution_count": null,
      "outputs": [
        {
          "output_type": "stream",
          "name": "stdout",
          "text": [
            "500000\n"
          ]
        }
      ]
    },
    {
      "cell_type": "markdown",
      "source": [
        "                        **by usin TYPE FUNCTION find the data types **\n",
        "\n",
        "syntax: type(p)\n",
        "\n"
      ],
      "metadata": {
        "id": "gZea_AtrezKX"
      }
    },
    {
      "cell_type": "code",
      "source": [
        "            # data types :\n",
        "\n",
        "n=10             #int\n",
        "m='car'            #string\n",
        "o=101.5              #float\n",
        "p=True                  #bool\n",
        "q=[10,20,30,40,10,50]      #list\n",
        "r=(10,20,30,20,20,20,33)      #set\n",
        "s={10,20,30,50,60,60,80,90}      #tuple\n",
        "t={10:'car',20:'bike',30:'door'}    #dict\n",
        "print(\"data type is:\",n,type(n))\n",
        "print(\"data type is:\",m,type(m))\n",
        "print(\"data type is:\",o,type(o))\n",
        "print(\"data type is:\",p,type(p))\n",
        "print(\"data type is:\",q,type(q))\n",
        "print(\"data type is:\",r,type(r))\n",
        "print(\"data type is:\",s,type(s))\n",
        "print(\"data type is:\",t,type(t))"
      ],
      "metadata": {
        "colab": {
          "base_uri": "https://localhost:8080/"
        },
        "id": "LtF3-m56eyuR",
        "outputId": "0fe11ac2-c81e-4021-eab8-732cbea65560"
      },
      "execution_count": null,
      "outputs": [
        {
          "output_type": "stream",
          "name": "stdout",
          "text": [
            "data type is: 10 <class 'int'>\n",
            "data type is: car <class 'str'>\n",
            "data type is: 101.5 <class 'float'>\n",
            "data type is: True <class 'bool'>\n",
            "data type is: [10, 20, 30, 40, 10, 50] <class 'list'>\n",
            "data type is: (10, 20, 30, 20, 20, 20, 33) <class 'tuple'>\n",
            "data type is: {80, 50, 20, 90, 10, 60, 30} <class 'set'>\n",
            "data type is: {10: 'car', 20: 'bike', 30: 'door'} <class 'dict'>\n"
          ]
        }
      ]
    },
    {
      "cell_type": "markdown",
      "source": [
        "**  comments **\n",
        "\n",
        "1.   singe comments :  #  symbol\n",
        "2.   Multiple comments:  \"\"\"   \"\"\"\n",
        "\n"
      ],
      "metadata": {
        "id": "D1ovPQ_YipWI"
      }
    },
    {
      "cell_type": "code",
      "source": [
        "# iam going to school"
      ],
      "metadata": {
        "id": "B9_9pDWKVksz"
      },
      "execution_count": null,
      "outputs": []
    },
    {
      "cell_type": "code",
      "source": [
        "\"\"\" iam giong to school\n",
        "iam going to college\n",
        "iam going to hostal \"\"\""
      ],
      "metadata": {
        "id": "i5Bumr0fVkpe"
      },
      "execution_count": null,
      "outputs": []
    },
    {
      "cell_type": "markdown",
      "source": [
        "                      ** OPERATORS **\n",
        "\n",
        "*   ARTHIMETIC OPERATORS (+,-,*,%,/,//,**)\n",
        "\n",
        "*   ASSINGMENT OPERATORS (=,+=,-=,*=,/=,%=,//=,**=)\n",
        "\n",
        "*   RELATIONAL OPERATORS (<,>,<=,>=,==,=!)\n",
        "\n",
        "*   LOGICAL OPERATORS (AND , OR , NOT)\n",
        "\n",
        "*   UNARY MINUS OPERATORS ( - )\n",
        "\n",
        "*   MEMNERSHIP OPERATORS (IN ,NOTIN)\n",
        "\n",
        "\n",
        "\n"
      ],
      "metadata": {
        "id": "JxPW6ZbJjfOs"
      }
    },
    {
      "cell_type": "markdown",
      "source": [
        "                            ARTHIMETIC OPERATORS"
      ],
      "metadata": {
        "id": "MK7ApKaumZU_"
      }
    },
    {
      "cell_type": "markdown",
      "source": [
        "@      addition :"
      ],
      "metadata": {
        "id": "Vqy1Ibmlmzoa"
      }
    },
    {
      "cell_type": "code",
      "source": [
        "a=10\n",
        "b=20\n",
        "a+b"
      ],
      "metadata": {
        "colab": {
          "base_uri": "https://localhost:8080/"
        },
        "id": "Jr8KkH4TjVN2",
        "outputId": "4d03e972-456c-4411-91c8-08cc9937af14"
      },
      "execution_count": null,
      "outputs": [
        {
          "output_type": "execute_result",
          "data": {
            "text/plain": [
              "30"
            ]
          },
          "metadata": {},
          "execution_count": 13
        }
      ]
    },
    {
      "cell_type": "code",
      "source": [
        "a=500\n",
        "b=800\n",
        "print(a+b)"
      ],
      "metadata": {
        "colab": {
          "base_uri": "https://localhost:8080/"
        },
        "id": "66FAN9SplRj2",
        "outputId": "a2dba19a-e7ba-47ba-eec2-aeab17e61bd2"
      },
      "execution_count": null,
      "outputs": [
        {
          "output_type": "stream",
          "name": "stdout",
          "text": [
            "1300\n"
          ]
        }
      ]
    },
    {
      "cell_type": "code",
      "source": [
        "price=40040\n",
        "quantity=10\n",
        "print(\"addition:\",price+quantity)"
      ],
      "metadata": {
        "colab": {
          "base_uri": "https://localhost:8080/"
        },
        "id": "ASFLQMHjjYHS",
        "outputId": "1558e63e-12af-4fd1-946e-91149119c60b"
      },
      "execution_count": null,
      "outputs": [
        {
          "output_type": "stream",
          "name": "stdout",
          "text": [
            "addition: 40050\n"
          ]
        }
      ]
    },
    {
      "cell_type": "markdown",
      "source": [
        "@     subtractions"
      ],
      "metadata": {
        "id": "tcjnksZUnAP7"
      }
    },
    {
      "cell_type": "code",
      "source": [
        "w=8100\n",
        "r=9000\n",
        "a-b"
      ],
      "metadata": {
        "colab": {
          "base_uri": "https://localhost:8080/"
        },
        "id": "HfynqKZLjXzf",
        "outputId": "69ec74bd-07a3-4de0-e5e4-2ad28969e05f"
      },
      "execution_count": null,
      "outputs": [
        {
          "output_type": "execute_result",
          "data": {
            "text/plain": [
              "-300"
            ]
          },
          "metadata": {},
          "execution_count": 16
        }
      ]
    },
    {
      "cell_type": "code",
      "source": [
        "u=9000000000\n",
        "m=99752.35312\n",
        "print(u-m)"
      ],
      "metadata": {
        "colab": {
          "base_uri": "https://localhost:8080/"
        },
        "id": "mM9m-c76mo-g",
        "outputId": "3da05937-e397-415b-ba9d-7849ef93b9ff"
      },
      "execution_count": null,
      "outputs": [
        {
          "output_type": "stream",
          "name": "stdout",
          "text": [
            "8999900247.64688\n"
          ]
        }
      ]
    },
    {
      "cell_type": "code",
      "source": [
        "g=1683162.5856941\n",
        "r=81636012.59448652\n",
        "print(\"subtraction:\",g+r)"
      ],
      "metadata": {
        "colab": {
          "base_uri": "https://localhost:8080/"
        },
        "id": "nqLhGX8zmvVD",
        "outputId": "f5e9315d-a7aa-4270-9d75-46ccb77c30d5"
      },
      "execution_count": null,
      "outputs": [
        {
          "output_type": "stream",
          "name": "stdout",
          "text": [
            "subtraction: 83319175.18018062\n"
          ]
        }
      ]
    },
    {
      "cell_type": "markdown",
      "source": [
        "@   multiplication :"
      ],
      "metadata": {
        "id": "1C1Ksx6nncM-"
      }
    },
    {
      "cell_type": "code",
      "source": [
        "t=88\n",
        "y=99\n",
        "t*y"
      ],
      "metadata": {
        "colab": {
          "base_uri": "https://localhost:8080/"
        },
        "id": "pZNASOgEnbmJ",
        "outputId": "0d8e1368-ce2c-458b-f02a-d42803370ce0"
      },
      "execution_count": null,
      "outputs": [
        {
          "output_type": "execute_result",
          "data": {
            "text/plain": [
              "8712"
            ]
          },
          "metadata": {},
          "execution_count": 21
        }
      ]
    },
    {
      "cell_type": "code",
      "source": [
        "u=8\n",
        "i=99999\n",
        "print(u*i)"
      ],
      "metadata": {
        "colab": {
          "base_uri": "https://localhost:8080/"
        },
        "id": "zSN7vPmznzkv",
        "outputId": "5119875b-3f12-461b-ff1e-8cd73a194a84"
      },
      "execution_count": null,
      "outputs": [
        {
          "output_type": "stream",
          "name": "stdout",
          "text": [
            "799992\n"
          ]
        }
      ]
    },
    {
      "cell_type": "code",
      "source": [
        "h=888888888888\n",
        "k=2\n",
        "print(\"multiplecation:\",h*k)"
      ],
      "metadata": {
        "colab": {
          "base_uri": "https://localhost:8080/"
        },
        "id": "F9JmAG_gn5In",
        "outputId": "57c1e6dd-50eb-4473-8085-8b1aba96bb1d"
      },
      "execution_count": null,
      "outputs": [
        {
          "output_type": "stream",
          "name": "stdout",
          "text": [
            "multiplecation: 1777777777776\n"
          ]
        }
      ]
    },
    {
      "cell_type": "markdown",
      "source": [
        "@devision :"
      ],
      "metadata": {
        "id": "YAlcFCGUoCkn"
      }
    },
    {
      "cell_type": "code",
      "source": [
        "s=5\n",
        "s=9\n",
        "s/s"
      ],
      "metadata": {
        "colab": {
          "base_uri": "https://localhost:8080/"
        },
        "id": "lCxTfzjHoBq2",
        "outputId": "a757a84c-7d72-4808-d382-54935407d294"
      },
      "execution_count": null,
      "outputs": [
        {
          "output_type": "execute_result",
          "data": {
            "text/plain": [
              "1.0"
            ]
          },
          "metadata": {},
          "execution_count": 31
        }
      ]
    },
    {
      "cell_type": "code",
      "source": [
        "s=88\n",
        "c=8\n",
        "print(s/c)"
      ],
      "metadata": {
        "colab": {
          "base_uri": "https://localhost:8080/"
        },
        "id": "5_fDZ6AvoNdm",
        "outputId": "0d7249f6-f3bc-4151-fba4-e9c91cbf469c"
      },
      "execution_count": null,
      "outputs": [
        {
          "output_type": "stream",
          "name": "stdout",
          "text": [
            "11.0\n"
          ]
        }
      ]
    },
    {
      "cell_type": "code",
      "source": [
        "x=55\n",
        "y=9999\n",
        "print(\"mul:\",x/y)"
      ],
      "metadata": {
        "colab": {
          "base_uri": "https://localhost:8080/"
        },
        "id": "pYESC95goWYL",
        "outputId": "7a883ab6-353f-4d15-9e28-9c104a1432a5"
      },
      "execution_count": null,
      "outputs": [
        {
          "output_type": "stream",
          "name": "stdout",
          "text": [
            "mul: 0.005500550055005501\n"
          ]
        }
      ]
    },
    {
      "cell_type": "markdown",
      "source": [
        "@ modulus :"
      ],
      "metadata": {
        "id": "2Hb_WWG4olLB"
      }
    },
    {
      "cell_type": "code",
      "source": [
        "d=100\n",
        "f=9000\n",
        "d%f"
      ],
      "metadata": {
        "colab": {
          "base_uri": "https://localhost:8080/"
        },
        "id": "WedxojFLoj79",
        "outputId": "8ee71bc9-dad5-487f-f07b-2b662fc1abf2"
      },
      "execution_count": null,
      "outputs": [
        {
          "output_type": "execute_result",
          "data": {
            "text/plain": [
              "100"
            ]
          },
          "metadata": {},
          "execution_count": 34
        }
      ]
    },
    {
      "cell_type": "code",
      "source": [
        "L=3332\n",
        "l=91111\n",
        "print(L%l)"
      ],
      "metadata": {
        "colab": {
          "base_uri": "https://localhost:8080/"
        },
        "id": "Ek8sb3KWpNca",
        "outputId": "6134564a-05a6-4ec0-fa83-fb86ca3f1545"
      },
      "execution_count": null,
      "outputs": [
        {
          "output_type": "stream",
          "name": "stdout",
          "text": [
            "3332\n"
          ]
        }
      ]
    },
    {
      "cell_type": "code",
      "source": [
        "y=852963\n",
        "yx=8529581\n",
        "print(\"modulus:\",y%yx)"
      ],
      "metadata": {
        "colab": {
          "base_uri": "https://localhost:8080/"
        },
        "id": "hKq_WyNqpUGV",
        "outputId": "f7520c30-63fe-4c88-8b60-69bede0b8ef2"
      },
      "execution_count": null,
      "outputs": [
        {
          "output_type": "stream",
          "name": "stdout",
          "text": [
            "modulus: 852963\n"
          ]
        }
      ]
    },
    {
      "cell_type": "markdown",
      "source": [
        "@flour devision :"
      ],
      "metadata": {
        "id": "_jtVEV6spcfk"
      }
    },
    {
      "cell_type": "code",
      "source": [
        "a=89652348\n",
        "b=85963245896\n",
        "a//b"
      ],
      "metadata": {
        "colab": {
          "base_uri": "https://localhost:8080/"
        },
        "id": "jPgOgrRxpZ6j",
        "outputId": "5c275606-38ec-4b36-ed14-c75cf1347a28"
      },
      "execution_count": null,
      "outputs": [
        {
          "output_type": "execute_result",
          "data": {
            "text/plain": [
              "0"
            ]
          },
          "metadata": {},
          "execution_count": 37
        }
      ]
    },
    {
      "cell_type": "code",
      "source": [
        "a=89652348\n",
        "b=85963245896\n",
        "(a//b)"
      ],
      "metadata": {
        "colab": {
          "base_uri": "https://localhost:8080/"
        },
        "id": "Exog73eApsYq",
        "outputId": "91e84ecd-31bd-4d22-9fba-9f745b48b365"
      },
      "execution_count": null,
      "outputs": [
        {
          "output_type": "execute_result",
          "data": {
            "text/plain": [
              "0"
            ]
          },
          "metadata": {},
          "execution_count": 38
        }
      ]
    },
    {
      "cell_type": "code",
      "source": [
        "a=89652348\n",
        "b=85963245896\n",
        "print(\"flour devision\",a//b)"
      ],
      "metadata": {
        "colab": {
          "base_uri": "https://localhost:8080/"
        },
        "id": "pFbzaLaFpyWk",
        "outputId": "d0f18a69-7a21-4985-aaa2-e579e02c2be1"
      },
      "execution_count": null,
      "outputs": [
        {
          "output_type": "stream",
          "name": "stdout",
          "text": [
            "flour devision 0\n"
          ]
        }
      ]
    },
    {
      "cell_type": "markdown",
      "source": [
        "@ power :"
      ],
      "metadata": {
        "id": "PohW9uqjqDPa"
      }
    },
    {
      "cell_type": "code",
      "source": [
        "v=153\n",
        "v=153\n",
        "v**v"
      ],
      "metadata": {
        "colab": {
          "base_uri": "https://localhost:8080/"
        },
        "id": "q7AFGlXgqBKb",
        "outputId": "2634bb52-3031-4291-d0c5-67b3ab378327"
      },
      "execution_count": null,
      "outputs": [
        {
          "output_type": "execute_result",
          "data": {
            "text/plain": [
              "18104599210571566497110369183029506982865923983330328977320577341474687518640311351102858590402090625045802333363382610070907526839919025295164390389815679142952655300084678802930972114884632021891283223504024737038181746179904730036186052319576139600294397311412296431423307378329224894075677979146357447757994124594482227472286643673"
            ]
          },
          "metadata": {},
          "execution_count": 40
        }
      ]
    },
    {
      "cell_type": "code",
      "source": [
        "t=5\n",
        "y=6\n",
        "print(t**y)"
      ],
      "metadata": {
        "colab": {
          "base_uri": "https://localhost:8080/"
        },
        "id": "L6uWV6pMqM1x",
        "outputId": "b205721d-1a42-4a59-e183-dbbc041c7eee"
      },
      "execution_count": null,
      "outputs": [
        {
          "output_type": "stream",
          "name": "stdout",
          "text": [
            "15625\n"
          ]
        }
      ]
    },
    {
      "cell_type": "code",
      "source": [
        "a=89652348\n",
        "b=8\n",
        "print(\"power:\",a**b)"
      ],
      "metadata": {
        "colab": {
          "base_uri": "https://localhost:8080/"
        },
        "id": "Lt-DziLHqTQY",
        "outputId": "eb64c6ac-d2de-43d4-8ccf-f4786208f15e"
      },
      "execution_count": null,
      "outputs": [
        {
          "output_type": "stream",
          "name": "stdout",
          "text": [
            "power: 4173432040866127131092010460234541297479055860569050085400313856\n"
          ]
        }
      ]
    },
    {
      "cell_type": "markdown",
      "source": [
        "                        ASSIGNMENT OPERATOR"
      ],
      "metadata": {
        "id": "23mHFxv5tMv7"
      }
    },
    {
      "cell_type": "code",
      "source": [
        "a = 5\n",
        "a += 10\n",
        "print(a)\n",
        "a -= 20\n",
        "print(a)\n",
        "a *= 40\n",
        "print(a)\n",
        "a **= 2\n",
        "print(a)\n",
        "a /= 6\n",
        "print(a)\n",
        "a //= 6\n",
        "print(a)\n",
        "a %= 100\n",
        "print(a)"
      ],
      "metadata": {
        "colab": {
          "base_uri": "https://localhost:8080/"
        },
        "id": "0YDACwWTrSer",
        "outputId": "326a01dd-bae0-42d1-9004-ffe9de294cce"
      },
      "execution_count": null,
      "outputs": [
        {
          "output_type": "stream",
          "name": "stdout",
          "text": [
            "15\n",
            "-5\n",
            "-200\n",
            "40000\n",
            "6666.666666666667\n",
            "1111.0\n",
            "11.0\n"
          ]
        }
      ]
    },
    {
      "cell_type": "markdown",
      "source": [
        "                                      RELATIONAL OPERATORS"
      ],
      "metadata": {
        "id": "RbcetGtpqbym"
      }
    },
    {
      "cell_type": "code",
      "source": [
        "a=80\n",
        "b=90\n",
        "print(a>b)\n",
        "print(a<b)\n",
        "print(a<=b)\n",
        "print(a>=b)\n",
        "print(a!=b)\n",
        "print(a==b)\n"
      ],
      "metadata": {
        "colab": {
          "base_uri": "https://localhost:8080/"
        },
        "id": "mG2caPL8qaZG",
        "outputId": "d0f771af-5df6-4fb5-ecec-0ee8b2429449"
      },
      "execution_count": null,
      "outputs": [
        {
          "output_type": "stream",
          "name": "stdout",
          "text": [
            "False\n",
            "True\n",
            "True\n",
            "False\n",
            "True\n",
            "False\n"
          ]
        }
      ]
    },
    {
      "cell_type": "markdown",
      "source": [
        "                              LOGICAL OPERATORS"
      ],
      "metadata": {
        "id": "v4V7w9a-tc-V"
      }
    },
    {
      "cell_type": "code",
      "source": [
        "a=False\n",
        "b=True\n",
        "print(a and b)\n",
        "print(a or b)\n",
        "print(not b)"
      ],
      "metadata": {
        "colab": {
          "base_uri": "https://localhost:8080/"
        },
        "id": "GoHP8_6ptjjA",
        "outputId": "6719c549-cea8-4a2a-b1df-04401d537e4c"
      },
      "execution_count": null,
      "outputs": [
        {
          "output_type": "stream",
          "name": "stdout",
          "text": [
            "False\n",
            "True\n",
            "False\n"
          ]
        }
      ]
    },
    {
      "cell_type": "markdown",
      "source": [
        "                                  UNARY MINUS"
      ],
      "metadata": {
        "id": "Biojo3jruZ_Q"
      }
    },
    {
      "cell_type": "code",
      "source": [
        "a=10\n",
        "print(a)\n",
        "print(-a)"
      ],
      "metadata": {
        "colab": {
          "base_uri": "https://localhost:8080/"
        },
        "id": "SuOWxhd0tv6j",
        "outputId": "1bc7836f-4124-4b02-dc36-a08adcf2c6f0"
      },
      "execution_count": null,
      "outputs": [
        {
          "output_type": "stream",
          "name": "stdout",
          "text": [
            "10\n",
            "-10\n"
          ]
        }
      ]
    },
    {
      "cell_type": "markdown",
      "source": [
        "                                  MEMBERSHIP OPERATORS"
      ],
      "metadata": {
        "id": "Be82pmfyuzIs"
      }
    },
    {
      "cell_type": "code",
      "source": [
        "name = \" my name is Siri \"\n",
        "print(\"Siri\" in name )\n",
        "print(\"oo\" in name)\n",
        "print(\"siri\" not in name)\n",
        "print(\"Siri\" not in name)"
      ],
      "metadata": {
        "colab": {
          "base_uri": "https://localhost:8080/"
        },
        "id": "gRMHTrIsu6_J",
        "outputId": "d03950b5-1192-4721-b634-04716808d3ac"
      },
      "execution_count": null,
      "outputs": [
        {
          "output_type": "stream",
          "name": "stdout",
          "text": [
            "True\n",
            "False\n",
            "True\n",
            "False\n"
          ]
        }
      ]
    },
    {
      "cell_type": "code",
      "source": [
        "a=[10,20,30,50,40,60,80,90,440]\n",
        "print(10 in a)\n",
        "print(20 in a)\n",
        "print(110 in a)\n",
        "print(1 in a)\n",
        "print(2 in a)\n",
        "print(2 not in a)\n",
        "print(3 not in a)\n",
        "print(4 not in a)"
      ],
      "metadata": {
        "colab": {
          "base_uri": "https://localhost:8080/"
        },
        "id": "rpLvWkoSveJ1",
        "outputId": "fb070c95-e837-4d8f-cb85-f91a83063dcb"
      },
      "execution_count": null,
      "outputs": [
        {
          "output_type": "stream",
          "name": "stdout",
          "text": [
            "True\n",
            "True\n",
            "False\n",
            "False\n",
            "False\n",
            "True\n",
            "True\n",
            "True\n"
          ]
        }
      ]
    },
    {
      "cell_type": "markdown",
      "source": [
        "                                            INPUT FUNTIONS\n",
        "\n",
        "input(p)"
      ],
      "metadata": {
        "id": "9Y0vZl4nwk4y"
      }
    },
    {
      "cell_type": "code",
      "source": [
        "name=input(\"enter the name:\")\n",
        "age=input(\"enter the age:\")\n",
        "print(name,age)"
      ],
      "metadata": {
        "colab": {
          "base_uri": "https://localhost:8080/"
        },
        "id": "bVmAjpD6wFSb",
        "outputId": "71522814-b056-42a1-c1eb-927bf6820ee8"
      },
      "execution_count": null,
      "outputs": [
        {
          "output_type": "stream",
          "name": "stdout",
          "text": [
            "enter the name:karthik\n",
            "enter the age:21\n",
            "karthik 21\n"
          ]
        }
      ]
    },
    {
      "cell_type": "markdown",
      "source": [
        "                                          TYPE CONVERSATION"
      ],
      "metadata": {
        "id": "Qg8rbr3RxfYk"
      }
    },
    {
      "cell_type": "code",
      "source": [
        "a=\"10\"\n",
        "print(a)\n",
        "print(type(a))\n",
        "\n",
        "b=int(a)\n",
        "print(b)\n",
        "print(type(b))"
      ],
      "metadata": {
        "colab": {
          "base_uri": "https://localhost:8080/"
        },
        "id": "dwAIqNesyC4o",
        "outputId": "ccf4a2af-d61e-44d3-b5ca-938fd7eb053c"
      },
      "execution_count": null,
      "outputs": [
        {
          "output_type": "stream",
          "name": "stdout",
          "text": [
            "10\n",
            "<class 'str'>\n",
            "10\n",
            "<class 'int'>\n"
          ]
        }
      ]
    },
    {
      "cell_type": "code",
      "source": [
        "a=input(\"enter name:\")\n",
        "print(type(a))\n",
        "\n",
        "b=int(a)\n",
        "print(b)\n",
        "print(type(b))"
      ],
      "metadata": {
        "colab": {
          "base_uri": "https://localhost:8080/"
        },
        "id": "OUQZAqrpyPIa",
        "outputId": "a0492154-05c3-47b3-c2c1-53943ecf903e"
      },
      "execution_count": null,
      "outputs": [
        {
          "output_type": "stream",
          "name": "stdout",
          "text": [
            "enter name:500\n",
            "<class 'str'>\n",
            "500\n",
            "<class 'int'>\n"
          ]
        }
      ]
    },
    {
      "cell_type": "code",
      "source": [
        "a=\"10\"\n",
        "print(a)\n",
        "print(type(a))\n",
        "\n",
        "b=float(a)\n",
        "print(b)\n",
        "print(type(b))"
      ],
      "metadata": {
        "colab": {
          "base_uri": "https://localhost:8080/"
        },
        "id": "bXndwSady6nE",
        "outputId": "9d0ae3b1-04f3-4d66-ec05-a20e6bed8891"
      },
      "execution_count": null,
      "outputs": [
        {
          "output_type": "stream",
          "name": "stdout",
          "text": [
            "10\n",
            "<class 'str'>\n",
            "10.0\n",
            "<class 'float'>\n"
          ]
        }
      ]
    },
    {
      "cell_type": "code",
      "source": [
        "a=input(\"enter name:\")\n",
        "print(type(a))\n",
        "\n",
        "b=float(a)\n",
        "print(b)\n",
        "print(type(b))"
      ],
      "metadata": {
        "colab": {
          "base_uri": "https://localhost:8080/"
        },
        "id": "tqoJzeZ1zDas",
        "outputId": "5394bb1e-5057-47f2-98c2-0db0d579ec92"
      },
      "execution_count": null,
      "outputs": [
        {
          "output_type": "stream",
          "name": "stdout",
          "text": [
            "enter name:56666\n",
            "<class 'str'>\n",
            "56666.0\n",
            "<class 'float'>\n"
          ]
        }
      ]
    },
    {
      "cell_type": "code",
      "source": [
        "a=120.22\n",
        "print(a)\n",
        "print(type(a))\n",
        "\n",
        "b=int(a)\n",
        "print(b)\n",
        "print(type(b))"
      ],
      "metadata": {
        "colab": {
          "base_uri": "https://localhost:8080/"
        },
        "id": "FLTHPWFqzJD7",
        "outputId": "44a358b5-c1de-485d-92df-5a7007d790b6"
      },
      "execution_count": null,
      "outputs": [
        {
          "output_type": "stream",
          "name": "stdout",
          "text": [
            "120.22\n",
            "<class 'float'>\n",
            "120\n",
            "<class 'int'>\n"
          ]
        }
      ]
    },
    {
      "cell_type": "code",
      "source": [
        "a=55.0\n",
        "print(a)\n",
        "print(type(a))\n",
        "\n",
        "b=str(a)\n",
        "print(b)\n",
        "print(type(b))"
      ],
      "metadata": {
        "colab": {
          "base_uri": "https://localhost:8080/"
        },
        "id": "dR6lJofDzYuc",
        "outputId": "1e03deef-f377-449c-8b24-1b2281516cf5"
      },
      "execution_count": null,
      "outputs": [
        {
          "output_type": "stream",
          "name": "stdout",
          "text": [
            "55.0\n",
            "<class 'float'>\n",
            "55.0\n",
            "<class 'str'>\n"
          ]
        }
      ]
    },
    {
      "cell_type": "code",
      "source": [
        "a=input(\"enter the name:\")\n",
        "age=input(\"enter the age:\")\n",
        "print(a,age)\n",
        "print(type(a))\n",
        "print(type(age))\n",
        "\n",
        "n=int(a)\n",
        "b=int(age)\n",
        "print(n,b)\n",
        "print(type(n))\n",
        "print(type(b))"
      ],
      "metadata": {
        "colab": {
          "base_uri": "https://localhost:8080/"
        },
        "id": "90kuONIhzxiu",
        "outputId": "5429bb11-7471-443c-95d4-24b538594b30"
      },
      "execution_count": null,
      "outputs": [
        {
          "output_type": "stream",
          "name": "stdout",
          "text": [
            "enter the name:88\n",
            "enter the age:6\n",
            "88 6\n",
            "<class 'str'>\n",
            "<class 'str'>\n",
            "88 6\n",
            "<class 'int'>\n",
            "<class 'int'>\n"
          ]
        }
      ]
    },
    {
      "cell_type": "code",
      "source": [],
      "metadata": {
        "id": "QIe4iWVF1kiA"
      },
      "execution_count": null,
      "outputs": []
    }
  ]
}